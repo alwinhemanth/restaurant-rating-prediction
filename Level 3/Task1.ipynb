{
  "nbformat": 4,
  "nbformat_minor": 0,
  "metadata": {
    "colab": {
      "provenance": []
    },
    "kernelspec": {
      "name": "python3",
      "display_name": "Python 3"
    },
    "language_info": {
      "name": "python"
    }
  },
  "cells": [
    {
      "cell_type": "code",
      "execution_count": 14,
      "metadata": {
        "colab": {
          "base_uri": "https://localhost:8080/"
        },
        "id": "gYzTzxsCfx-S",
        "outputId": "95f75e15-fda2-4d0a-b1df-5027494479b7"
      },
      "outputs": [
        {
          "output_type": "stream",
          "name": "stdout",
          "text": [
            "Columns: ['Restaurant ID', 'Restaurant Name', 'Country Code', 'City', 'Address', 'Locality', 'Locality Verbose', 'Longitude', 'Latitude', 'Cuisines', 'Average Cost for two', 'Currency', 'Has Table booking', 'Has Online delivery', 'Is delivering now', 'Switch to order menu', 'Price range', 'Aggregate rating', 'Rating color', 'Rating text', 'Votes']\n",
            "\n",
            "Linear Regression:\n",
            "R² Score: 0.26283619645694944\n",
            "RMSE: 1.2953243457046082\n",
            "\n",
            "Decision Tree:\n",
            "R² Score: 0.8983813453473767\n",
            "RMSE: 0.4809315267665352\n",
            "\n",
            "Random Forest:\n",
            "R² Score: 0.9453054987910234\n",
            "RMSE: 0.35283231983797136\n"
          ]
        }
      ],
      "source": [
        "from sklearn.model_selection import train_test_split\n",
        "from sklearn.linear_model import LinearRegression\n",
        "from sklearn.tree import DecisionTreeRegressor\n",
        "from sklearn.ensemble import RandomForestRegressor\n",
        "from sklearn.metrics import mean_squared_error, r2_score\n",
        "import numpy as np\n",
        "import pandas as pd\n",
        "\n",
        "# Load dataset\n",
        "df = pd.read_csv('Dataset .csv')\n",
        "print(\"Columns:\", df.columns.tolist())\n",
        "\n",
        "# Feature Engineering\n",
        "df['Name Length'] = df['Restaurant Name'].apply(lambda x: len(str(x)))\n",
        "df['Address Length'] = df['Address'].apply(lambda x: len(str(x)))\n",
        "df['Has Table Booking (Encoded)'] = df['Has Table booking'].map({'Yes': 1, 'No': 0})\n",
        "df['Has Online Delivery (Encoded)'] = df['Has Online delivery'].map({'Yes': 1, 'No': 0})\n",
        "\n",
        "# Features and Target\n",
        "X = df[['Votes', 'Price range', 'Has Table Booking (Encoded)',\n",
        "        'Has Online Delivery (Encoded)', 'Name Length', 'Address Length']]\n",
        "y = df['Aggregate rating']\n",
        "\n",
        "# Train-test split\n",
        "X_train, X_test, y_train, y_test = train_test_split(X, y, test_size=0.2, random_state=42)\n",
        "\n",
        "# --- Linear Regression ---\n",
        "model_lr = LinearRegression()\n",
        "model_lr.fit(X_train, y_train)\n",
        "y_pred_lr = model_lr.predict(X_test)\n",
        "print(\"\\nLinear Regression:\")\n",
        "print(\"R² Score:\", r2_score(y_test, y_pred_lr))\n",
        "print(\"RMSE:\", np.sqrt(mean_squared_error(y_test, y_pred_lr)))\n",
        "\n",
        "# --- Decision Tree Regressor ---\n",
        "model_dt = DecisionTreeRegressor(random_state=42)\n",
        "model_dt.fit(X_train, y_train)\n",
        "y_pred_dt = model_dt.predict(X_test)\n",
        "print(\"\\nDecision Tree:\")\n",
        "print(\"R² Score:\", r2_score(y_test, y_pred_dt))\n",
        "print(\"RMSE:\", np.sqrt(mean_squared_error(y_test, y_pred_dt)))\n",
        "\n",
        "# --- Random Forest Regressor ---\n",
        "model_rf = RandomForestRegressor(random_state=42)\n",
        "model_rf.fit(X_train, y_train)\n",
        "y_pred_rf = model_rf.predict(X_test)\n",
        "print(\"\\nRandom Forest:\")\n",
        "print(\"R² Score:\", r2_score(y_test, y_pred_rf))\n",
        "print(\"RMSE:\", np.sqrt(mean_squared_error(y_test, y_pred_rf)))\n"
      ]
    }
  ]
}